{
 "cells": [
  {
   "cell_type": "code",
   "execution_count": 16,
   "metadata": {},
   "outputs": [],
   "source": [
    "# Tanvir Mhamud Sarker - 20-42746-1\n",
    "import os\n",
    "import cv2\n",
    "import random\n",
    "import numpy as np\n",
    "from tqdm import tqdm\n",
    "import matplotlib.pyplot as plt"
   ]
  },
  {
   "cell_type": "code",
   "execution_count": 17,
   "metadata": {},
   "outputs": [
    {
     "name": "stdout",
     "output_type": "stream",
     "text": [
      "['airplane', 'automobile', 'bird', 'cat', 'deer', 'dog', 'frog', 'horse', 'ship', 'truck']\n"
     ]
    }
   ],
   "source": [
    "TRAIN_DIR = \"CIFAR-10-images/train\"\n",
    "CATEGORIES = []\n",
    "for c in os.listdir(TRAIN_DIR):\n",
    "    CATEGORIES.append(c)\n",
    "print(CATEGORIES)"
   ]
  },
  {
   "cell_type": "code",
   "execution_count": 18,
   "metadata": {},
   "outputs": [
    {
     "name": "stderr",
     "output_type": "stream",
     "text": [
      "100%|██████████| 5000/5000 [00:00<00:00, 10902.88it/s]\n",
      "100%|██████████| 5000/5000 [00:00<00:00, 10926.72it/s]\n",
      "100%|██████████| 5000/5000 [00:00<00:00, 11071.92it/s]\n",
      "100%|██████████| 5000/5000 [00:00<00:00, 11133.57it/s]\n",
      "100%|██████████| 5000/5000 [00:00<00:00, 10371.29it/s]\n",
      "100%|██████████| 5000/5000 [00:00<00:00, 11096.50it/s]\n",
      "100%|██████████| 5000/5000 [00:00<00:00, 11121.17it/s]\n",
      "100%|██████████| 5000/5000 [00:00<00:00, 10843.74it/s]\n",
      "100%|██████████| 5000/5000 [00:00<00:00, 11361.28it/s]\n",
      "100%|██████████| 5000/5000 [00:00<00:00, 11071.91it/s]"
     ]
    },
    {
     "name": "stdout",
     "output_type": "stream",
     "text": [
      "50000\n"
     ]
    },
    {
     "name": "stderr",
     "output_type": "stream",
     "text": [
      "\n"
     ]
    }
   ],
   "source": [
    "TRAIN_DATA = []\n",
    "for c in CATEGORIES:\n",
    "    path = os.path.join(TRAIN_DIR,c)\n",
    "    class_num = CATEGORIES.index(c)\n",
    "    for img in tqdm(os.listdir(path)):\n",
    "        img_arr = cv2.imread(os.path.join(path,img))\n",
    "        TRAIN_DATA.append({'image': img_arr, 'class': class_num})\n",
    "print(len(TRAIN_DATA))"
   ]
  },
  {
   "cell_type": "code",
   "execution_count": 19,
   "metadata": {},
   "outputs": [
    {
     "ename": "KeyError",
     "evalue": "0",
     "output_type": "error",
     "traceback": [
      "\u001b[1;31m---------------------------------------------------------------------------\u001b[0m",
      "\u001b[1;31mKeyError\u001b[0m                                  Traceback (most recent call last)",
      "Cell \u001b[1;32mIn[19], line 6\u001b[0m\n\u001b[0;32m      4\u001b[0m \u001b[39mfor\u001b[39;00m i \u001b[39min\u001b[39;00m \u001b[39mrange\u001b[39m(\u001b[39m50\u001b[39m):\n\u001b[0;32m      5\u001b[0m     plt\u001b[39m.\u001b[39msubplot(\u001b[39m5\u001b[39m,\u001b[39m10\u001b[39m,i\u001b[39m+\u001b[39m\u001b[39m1\u001b[39m)\n\u001b[1;32m----> 6\u001b[0m     plt\u001b[39m.\u001b[39mimshow(TRAIN_DATA[i][\u001b[39m0\u001b[39;49m])\n\u001b[0;32m      7\u001b[0m     plt\u001b[39m.\u001b[39mxlabel(CATEGORIES[TRAIN_DATA[i][\u001b[39m1\u001b[39m]])\n\u001b[0;32m      8\u001b[0m     plt\u001b[39m.\u001b[39mxticks([])\n",
      "\u001b[1;31mKeyError\u001b[0m: 0"
     ]
    },
    {
     "data": {
      "image/png": "[encoded data removed]",
      "text/plain": [
       "<Figure size 2000x1000 with 1 Axes>"
      ]
     },
     "metadata": {},
     "output_type": "display_data"
    }
   ],
   "source": [
    "random.shuffle(TRAIN_DATA)\n",
    "plt.figure(figsize=(20,10))\n",
    "\n",
    "for i in range(50):\n",
    "    plt.subplot(5,10,i+1)\n",
    "    plt.imshow(TRAIN_DATA[i][0])\n",
    "    plt.xlabel(CATEGORIES[TRAIN_DATA[i][1]])\n",
    "    plt.xticks([])\n",
    "    plt.yticks([])\n",
    "    if i==50:\n",
    "        break\n",
    "plt.show()\n"
   ]
  },
  {
   "cell_type": "code",
   "execution_count": 20,
   "metadata": {},
   "outputs": [],
   "source": [
    "f0 = TRAIN_DATA[0:1000]\n",
    "f1 = TRAIN_DATA[1000:2000]\n",
    "f2 = TRAIN_DATA[2000:3000]\n",
    "f3 = TRAIN_DATA[3000:4000]\n",
    "f4 = TRAIN_DATA[4000:5000]"
   ]
  },
  {
   "cell_type": "code",
   "execution_count": 21,
   "metadata": {},
   "outputs": [],
   "source": [
    "class KNN:\n",
    "    k = None\n",
    "\n",
    "    def __init__(self, k):\n",
    "        self.k = k\n",
    "\n",
    "    def fit(self, X, y):\n",
    "        self.X = X\n",
    "        self.y = y\n",
    "    \n",
    "    def accuracy(self, y_actual, y_pred):\n",
    "        return np.sum(y_actual == y_pred) / len(y_actual)\n",
    "    \n",
    "    def predict(self, X_test, l_func = \"l2\"):\n",
    "        y_predtion = [] \n",
    "        i = 0\n",
    "        for x in tqdm(X_test):\n",
    "            distances = []\n",
    "            for i in range(len(self.X)):\n",
    "                if l_func == \"l2\":\n",
    "                    distance = np.sqrt(np.sum((x - self.X[i])**2))\n",
    "                    distances.append({\n",
    "                        'distance': distance,\n",
    "                        'class': self.y[i]\n",
    "                    })\n",
    "                elif l_func == \"l1\":\n",
    "                    distance = np.sum(np.abs(x - self.X[i]))\n",
    "                    distances.append({\n",
    "                        'distance': distance,\n",
    "                        'class': self.y[i]\n",
    "                    })\n",
    "            distances.sort(key=lambda x: x['distance'])\n",
    "            k_nearest = distances[:self.k]\n",
    "            k_nearest_classes = [x['class'] for x in k_nearest]\n",
    "            y_predtion.append(max(set(k_nearest_classes), key=k_nearest_classes.count))\n",
    "        return y_predtion"
   ]
  },
  {
   "cell_type": "code",
   "execution_count": 23,
   "metadata": {},
   "outputs": [
    {
     "name": "stderr",
     "output_type": "stream",
     "text": [
      "100%|██████████| 1000/1000 [00:36<00:00, 27.66it/s]\n",
      "100%|██████████| 1000/1000 [00:42<00:00, 23.38it/s]\n",
      "  5%|▌         | 1/19 [01:18<23:41, 78.94s/it]"
     ]
    },
    {
     "name": "stdout",
     "output_type": "stream",
     "text": [
      "for k = 1 l1 accuracy is 0.24 and l2 accuracy is 0.204\n"
     ]
    },
    {
     "name": "stderr",
     "output_type": "stream",
     "text": [
      "100%|██████████| 1000/1000 [00:36<00:00, 27.65it/s]\n",
      "100%|██████████| 1000/1000 [00:42<00:00, 23.47it/s]\n",
      " 11%|█         | 2/19 [02:37<22:20, 78.85s/it]"
     ]
    },
    {
     "name": "stdout",
     "output_type": "stream",
     "text": [
      "for k = 2 l1 accuracy is 0.221 and l2 accuracy is 0.182\n"
     ]
    },
    {
     "name": "stderr",
     "output_type": "stream",
     "text": [
      "100%|██████████| 1000/1000 [00:35<00:00, 27.83it/s]\n",
      "100%|██████████| 1000/1000 [00:42<00:00, 23.55it/s]\n",
      " 16%|█▌        | 3/19 [03:56<20:58, 78.64s/it]"
     ]
    },
    {
     "name": "stdout",
     "output_type": "stream",
     "text": [
      "for k = 3 l1 accuracy is 0.232 and l2 accuracy is 0.176\n"
     ]
    },
    {
     "name": "stderr",
     "output_type": "stream",
     "text": [
      "100%|██████████| 1000/1000 [00:35<00:00, 28.02it/s]\n",
      "100%|██████████| 1000/1000 [00:42<00:00, 23.57it/s]\n",
      " 21%|██        | 4/19 [05:14<19:36, 78.44s/it]"
     ]
    },
    {
     "name": "stdout",
     "output_type": "stream",
     "text": [
      "for k = 4 l1 accuracy is 0.229 and l2 accuracy is 0.188\n"
     ]
    },
    {
     "name": "stderr",
     "output_type": "stream",
     "text": [
      "100%|██████████| 1000/1000 [00:35<00:00, 28.02it/s]\n",
      "100%|██████████| 1000/1000 [00:42<00:00, 23.53it/s]\n",
      " 26%|██▋       | 5/19 [06:32<18:16, 78.35s/it]"
     ]
    },
    {
     "name": "stdout",
     "output_type": "stream",
     "text": [
      "for k = 5 l1 accuracy is 0.222 and l2 accuracy is 0.208\n"
     ]
    },
    {
     "name": "stderr",
     "output_type": "stream",
     "text": [
      "100%|██████████| 1000/1000 [00:35<00:00, 28.03it/s]\n",
      "100%|██████████| 1000/1000 [00:42<00:00, 23.55it/s]\n",
      " 32%|███▏      | 6/19 [07:50<16:57, 78.27s/it]"
     ]
    },
    {
     "name": "stdout",
     "output_type": "stream",
     "text": [
      "for k = 6 l1 accuracy is 0.232 and l2 accuracy is 0.187\n"
     ]
    },
    {
     "name": "stderr",
     "output_type": "stream",
     "text": [
      "100%|██████████| 1000/1000 [00:35<00:00, 28.12it/s]\n",
      "100%|██████████| 1000/1000 [00:42<00:00, 23.55it/s]\n",
      " 37%|███▋      | 7/19 [09:08<15:38, 78.20s/it]"
     ]
    },
    {
     "name": "stdout",
     "output_type": "stream",
     "text": [
      "for k = 7 l1 accuracy is 0.226 and l2 accuracy is 0.182\n"
     ]
    },
    {
     "name": "stderr",
     "output_type": "stream",
     "text": [
      "100%|██████████| 1000/1000 [00:35<00:00, 28.02it/s]\n",
      "100%|██████████| 1000/1000 [00:42<00:00, 23.62it/s]\n",
      " 42%|████▏     | 8/19 [10:26<14:19, 78.14s/it]"
     ]
    },
    {
     "name": "stdout",
     "output_type": "stream",
     "text": [
      "for k = 8 l1 accuracy is 0.22 and l2 accuracy is 0.187\n"
     ]
    },
    {
     "name": "stderr",
     "output_type": "stream",
     "text": [
      "100%|██████████| 1000/1000 [00:35<00:00, 28.07it/s]\n",
      "100%|██████████| 1000/1000 [00:42<00:00, 23.58it/s]\n",
      " 47%|████▋     | 9/19 [11:44<13:01, 78.11s/it]"
     ]
    },
    {
     "name": "stdout",
     "output_type": "stream",
     "text": [
      "for k = 9 l1 accuracy is 0.213 and l2 accuracy is 0.188\n"
     ]
    },
    {
     "name": "stderr",
     "output_type": "stream",
     "text": [
      "100%|██████████| 1000/1000 [00:35<00:00, 28.03it/s]\n",
      "100%|██████████| 1000/1000 [00:42<00:00, 23.52it/s]\n",
      " 53%|█████▎    | 10/19 [13:02<11:43, 78.13s/it]"
     ]
    },
    {
     "name": "stdout",
     "output_type": "stream",
     "text": [
      "for k = 10 l1 accuracy is 0.217 and l2 accuracy is 0.198\n"
     ]
    },
    {
     "name": "stderr",
     "output_type": "stream",
     "text": [
      "100%|██████████| 1000/1000 [00:35<00:00, 28.07it/s]\n",
      "100%|██████████| 1000/1000 [00:42<00:00, 23.53it/s]\n",
      " 58%|█████▊    | 11/19 [14:20<10:25, 78.13s/it]"
     ]
    },
    {
     "name": "stdout",
     "output_type": "stream",
     "text": [
      "for k = 11 l1 accuracy is 0.225 and l2 accuracy is 0.191\n"
     ]
    },
    {
     "name": "stderr",
     "output_type": "stream",
     "text": [
      "100%|██████████| 1000/1000 [00:35<00:00, 28.09it/s]\n",
      "100%|██████████| 1000/1000 [00:42<00:00, 23.54it/s]\n",
      " 63%|██████▎   | 12/19 [15:39<09:06, 78.12s/it]"
     ]
    },
    {
     "name": "stdout",
     "output_type": "stream",
     "text": [
      "for k = 12 l1 accuracy is 0.215 and l2 accuracy is 0.198\n"
     ]
    },
    {
     "name": "stderr",
     "output_type": "stream",
     "text": [
      "100%|██████████| 1000/1000 [00:35<00:00, 28.14it/s]\n",
      "100%|██████████| 1000/1000 [00:42<00:00, 23.52it/s]\n",
      " 68%|██████▊   | 13/19 [16:57<07:48, 78.10s/it]"
     ]
    },
    {
     "name": "stdout",
     "output_type": "stream",
     "text": [
      "for k = 13 l1 accuracy is 0.214 and l2 accuracy is 0.199\n"
     ]
    },
    {
     "name": "stderr",
     "output_type": "stream",
     "text": [
      "100%|██████████| 1000/1000 [00:35<00:00, 28.00it/s]\n",
      "100%|██████████| 1000/1000 [00:42<00:00, 23.59it/s]\n",
      " 74%|███████▎  | 14/19 [18:15<06:30, 78.11s/it]"
     ]
    },
    {
     "name": "stdout",
     "output_type": "stream",
     "text": [
      "for k = 14 l1 accuracy is 0.21 and l2 accuracy is 0.199\n"
     ]
    },
    {
     "name": "stderr",
     "output_type": "stream",
     "text": [
      "100%|██████████| 1000/1000 [00:35<00:00, 28.04it/s]\n",
      "100%|██████████| 1000/1000 [00:42<00:00, 23.55it/s]\n",
      " 79%|███████▉  | 15/19 [19:33<05:12, 78.11s/it]"
     ]
    },
    {
     "name": "stdout",
     "output_type": "stream",
     "text": [
      "for k = 15 l1 accuracy is 0.215 and l2 accuracy is 0.198\n"
     ]
    },
    {
     "name": "stderr",
     "output_type": "stream",
     "text": [
      "100%|██████████| 1000/1000 [00:35<00:00, 28.05it/s]\n",
      "100%|██████████| 1000/1000 [00:42<00:00, 23.55it/s]\n",
      " 84%|████████▍ | 16/19 [20:51<03:54, 78.11s/it]"
     ]
    },
    {
     "name": "stdout",
     "output_type": "stream",
     "text": [
      "for k = 16 l1 accuracy is 0.215 and l2 accuracy is 0.202\n"
     ]
    },
    {
     "name": "stderr",
     "output_type": "stream",
     "text": [
      "100%|██████████| 1000/1000 [00:35<00:00, 28.08it/s]\n",
      "100%|██████████| 1000/1000 [00:42<00:00, 23.53it/s]\n",
      " 89%|████████▉ | 17/19 [22:09<02:36, 78.11s/it]"
     ]
    },
    {
     "name": "stdout",
     "output_type": "stream",
     "text": [
      "for k = 17 l1 accuracy is 0.218 and l2 accuracy is 0.202\n"
     ]
    },
    {
     "name": "stderr",
     "output_type": "stream",
     "text": [
      "100%|██████████| 1000/1000 [00:35<00:00, 28.15it/s]\n",
      "100%|██████████| 1000/1000 [00:42<00:00, 23.56it/s]\n",
      " 95%|█████████▍| 18/19 [23:27<01:18, 78.07s/it]"
     ]
    },
    {
     "name": "stdout",
     "output_type": "stream",
     "text": [
      "for k = 18 l1 accuracy is 0.217 and l2 accuracy is 0.193\n"
     ]
    },
    {
     "name": "stderr",
     "output_type": "stream",
     "text": [
      "100%|██████████| 1000/1000 [00:35<00:00, 28.08it/s]\n",
      "100%|██████████| 1000/1000 [00:42<00:00, 23.57it/s]\n",
      "100%|██████████| 19/19 [24:45<00:00, 78.19s/it]"
     ]
    },
    {
     "name": "stdout",
     "output_type": "stream",
     "text": [
      "for k = 19 l1 accuracy is 0.222 and l2 accuracy is 0.192\n"
     ]
    },
    {
     "name": "stderr",
     "output_type": "stream",
     "text": [
      "\n"
     ]
    }
   ],
   "source": [
    "def split(X, y, test_size=0.2):\n",
    "    X_train = X[:int(len(X)*(1-test_size))]\n",
    "    X_test = X[int(len(X)*(1-test_size)):]\n",
    "    y_train = y[:int(len(y)*(1-test_size))]\n",
    "    y_test = y[int(len(y)*(1-test_size)):]\n",
    "    return X_train, X_test, y_train, y_test\n",
    "\n",
    "X = np.array([i['image'] for i in TRAIN_DATA[:5000]])\n",
    "y = np.array([i['class'] for i in TRAIN_DATA[:5000]])\n",
    "\n",
    "l1_accuracies = {}\n",
    "l2_accuracies = {}\n",
    "\n",
    "k_neighbors = np.arange(1, 20)\n",
    "\n",
    "for k in tqdm(k_neighbors):\n",
    "    knn = KNN(k)\n",
    "    \n",
    "    X_train , X_test, y_train, y_test = split(X, y, test_size=0.2)\n",
    "\n",
    "    knn.fit(X_train, y_train)\n",
    "\n",
    "    y_pred_l1 = knn.predict(X_test, l_func=\"l1\")\n",
    "    y_pred_l2 = knn.predict(X_test, l_func=\"l2\")\n",
    "\n",
    "   \n",
    "    l1_accuracies[k] = knn.accuracy(y_test, y_pred_l1)\n",
    "    l2_accuracies[k] = knn.accuracy(y_test, y_pred_l2)\n",
    "\n",
    "    print(f\"for k = {k} l1 accuracy is {l1_accuracies[k]} and l2 accuracy is {l2_accuracies[k]}\")"
   ]
  },
  {
   "cell_type": "code",
   "execution_count": 24,
   "metadata": {},
   "outputs": [
    {
     "data": {
      "image/png": "[encoded data removed]",
      "text/plain": [
       "<Figure size 640x480 with 1 Axes>"
      ]
     },
     "metadata": {},
     "output_type": "display_data"
    }
   ],
   "source": [
    "plt.plot(k_neighbors, list(l1_accuracies.values()), label=\"L1 Distance\", color=\"red\")\n",
    "plt.plot(k_neighbors, list(l2_accuracies.values()), label=\"L2 Distance\", color=\"blue\")\n",
    "plt.xlabel('K')\n",
    "plt.ylabel('Midpoint accuracy')\n",
    "plt.title('KNN performance on Dataset')\n",
    "plt.legend()\n",
    "plt.show()"
   ]
  },
  {
   "cell_type": "code",
   "execution_count": 25,
   "metadata": {},
   "outputs": [
    {
     "name": "stdout",
     "output_type": "stream",
     "text": [
      "Best K for L1 Distance is 1 with accuracy 0.24\n"
     ]
    }
   ],
   "source": [
    "def best_accuracy(accuracies):\n",
    "    best_k = max(accuracies, key=accuracies.get)\n",
    "    best_accuracy = accuracies[best_k]\n",
    "    return best_k, best_accuracy\n",
    "\n",
    "best_k_l1, best_accuracy_l1 = best_accuracy(l1_accuracies)\n",
    "best_k_l2, best_accuracy_l2 = best_accuracy(l2_accuracies)\n",
    "\n",
    "print(f\"Best K for L1 Distance is {best_k_l1} with accuracy {best_accuracy_l1}\")"
   ]
  },
  {
   "cell_type": "code",
   "execution_count": null,
   "metadata": {},
   "outputs": [],
   "source": []
  }
 ],
 "metadata": {
  "kernelspec": {
   "display_name": "Python 3",
   "language": "python",
   "name": "python3"
  },
  "language_info": {
   "codemirror_mode": {
    "name": "ipython",
    "version": 3
   },
   "file_extension": ".py",
   "mimetype": "text/x-python",
   "name": "python",
   "nbconvert_exporter": "python",
   "pygments_lexer": "ipython3",
   "version": "3.11.2"
  },
  "orig_nbformat": 4
 },
 "nbformat": 4,
 "nbformat_minor": 2
}
