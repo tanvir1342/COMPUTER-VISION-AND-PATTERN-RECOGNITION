{
  "nbformat": 4,
  "nbformat_minor": 0,
  "metadata": {
    "colab": {
      "provenance": []
    },
    "kernelspec": {
      "name": "python3",
      "display_name": "Python 3"
    },
    "language_info": {
      "name": "python"
    }
  },
  "cells": [
    {
      "cell_type": "code",
      "execution_count": 1,
      "metadata": {
        "id": "wLuMajBQY77m"
      },
      "outputs": [],
      "source": [
        "import tensorflow as tf\n",
        "from tensorflow.keras.datasets import mnist\n",
        "from tensorflow.keras.models import Sequential\n",
        "from tensorflow.keras.layers import Dense, Flatten, Conv2D, MaxPooling2D\n",
        "from tensorflow.keras.optimizers import SGD, Adam, RMSprop\n",
        "from tensorflow.keras.utils import to_categorical\n"
      ]
    },
    {
      "cell_type": "code",
      "source": [
        "(x_train, y_train), (x_test, y_test) = mnist.load_data()\n"
      ],
      "metadata": {
        "colab": {
          "base_uri": "https://localhost:8080/"
        },
        "id": "2bRSB-YZZSqC",
        "outputId": "b9af1b2a-e7d9-422d-a4b7-9925ed577361"
      },
      "execution_count": 2,
      "outputs": [
        {
          "output_type": "stream",
          "name": "stdout",
          "text": [
            "Downloading data from https://storage.googleapis.com/tensorflow/tf-keras-datasets/mnist.npz\n",
            "11490434/11490434 [==============================] - 0s 0us/step\n"
          ]
        }
      ]
    },
    {
      "cell_type": "code",
      "source": [
        "x_train = x_train.reshape((60000, 28, 28, 1)) / 255.0\n",
        "x_test = x_test.reshape((10000, 28, 28, 1)) / 255.0\n"
      ],
      "metadata": {
        "id": "nZR4I9LyZXkD"
      },
      "execution_count": 3,
      "outputs": []
    },
    {
      "cell_type": "code",
      "source": [
        "y_train = to_categorical(y_train)\n",
        "y_test = to_categorical(y_test)\n"
      ],
      "metadata": {
        "id": "M9RN4zhUZapb"
      },
      "execution_count": 4,
      "outputs": []
    },
    {
      "cell_type": "code",
      "source": [
        "model = Sequential([\n",
        "    Conv2D(32, (3, 3), activation='relu', input_shape=(28, 28, 1)),\n",
        "    MaxPooling2D((2, 2)),\n",
        "    Conv2D(64, (3, 3), activation='relu'),\n",
        "    MaxPooling2D((2, 2)),\n",
        "    Flatten(),\n",
        "    Dense(64, activation='relu'),\n",
        "    Dense(10, activation='softmax')\n",
        "])\n"
      ],
      "metadata": {
        "id": "5Qhrd1vAZe-b"
      },
      "execution_count": 5,
      "outputs": []
    },
    {
      "cell_type": "code",
      "source": [
        "sgd = SGD(learning_rate=0.01)\n",
        "adam = Adam(learning_rate=0.001)\n",
        "rmsprop = RMSprop(learning_rate=0.001)\n",
        "\n",
        "model.compile(optimizer=sgd, loss='categorical_crossentropy', metrics=['accuracy'])\n",
        "history_sgd = model.fit(x_train, y_train, epochs=10, batch_size=32, validation_data=(x_test, y_test))\n",
        "\n",
        "model.compile(optimizer=adam, loss='categorical_crossentropy', metrics=['accuracy'])\n",
        "history_adam = model.fit(x_train, y_train, epochs=10, batch_size=32, validation_data=(x_test, y_test))\n",
        "\n",
        "model.compile(optimizer=rmsprop, loss='categorical_crossentropy', metrics=['accuracy'])\n",
        "history_rmsprop = model.fit(x_train, y_train, epochs=10, batch_size=32, validation_data=(x_test, y_test))\n"
      ],
      "metadata": {
        "colab": {
          "base_uri": "https://localhost:8080/"
        },
        "id": "SXZbSuLtZibb",
        "outputId": "8e2026a0-d61e-41d5-ddfe-c41d36ba3d72"
      },
      "execution_count": 6,
      "outputs": [
        {
          "output_type": "stream",
          "name": "stdout",
          "text": [
            "Epoch 1/10\n",
            "1875/1875 [==============================] - 69s 36ms/step - loss: 0.5342 - accuracy: 0.8400 - val_loss: 0.1709 - val_accuracy: 0.9499\n",
            "Epoch 2/10\n",
            "1875/1875 [==============================] - 77s 41ms/step - loss: 0.1546 - accuracy: 0.9534 - val_loss: 0.1093 - val_accuracy: 0.9677\n",
            "Epoch 3/10\n",
            "1875/1875 [==============================] - 68s 36ms/step - loss: 0.1081 - accuracy: 0.9668 - val_loss: 0.0759 - val_accuracy: 0.9768\n",
            "Epoch 4/10\n",
            "1875/1875 [==============================] - 67s 36ms/step - loss: 0.0870 - accuracy: 0.9731 - val_loss: 0.0667 - val_accuracy: 0.9780\n",
            "Epoch 5/10\n",
            "1875/1875 [==============================] - 65s 35ms/step - loss: 0.0740 - accuracy: 0.9774 - val_loss: 0.0673 - val_accuracy: 0.9792\n",
            "Epoch 6/10\n",
            "1875/1875 [==============================] - 65s 35ms/step - loss: 0.0657 - accuracy: 0.9797 - val_loss: 0.0520 - val_accuracy: 0.9837\n",
            "Epoch 7/10\n",
            "1875/1875 [==============================] - 66s 35ms/step - loss: 0.0583 - accuracy: 0.9820 - val_loss: 0.0545 - val_accuracy: 0.9824\n",
            "Epoch 8/10\n",
            "1875/1875 [==============================] - 64s 34ms/step - loss: 0.0531 - accuracy: 0.9833 - val_loss: 0.0511 - val_accuracy: 0.9832\n",
            "Epoch 9/10\n",
            "1875/1875 [==============================] - 67s 36ms/step - loss: 0.0485 - accuracy: 0.9851 - val_loss: 0.0475 - val_accuracy: 0.9841\n",
            "Epoch 10/10\n",
            "1875/1875 [==============================] - 65s 35ms/step - loss: 0.0440 - accuracy: 0.9863 - val_loss: 0.0423 - val_accuracy: 0.9864\n",
            "Epoch 1/10\n",
            "1875/1875 [==============================] - 72s 38ms/step - loss: 0.0729 - accuracy: 0.9775 - val_loss: 0.0387 - val_accuracy: 0.9873\n",
            "Epoch 2/10\n",
            "1875/1875 [==============================] - 67s 36ms/step - loss: 0.0421 - accuracy: 0.9868 - val_loss: 0.0309 - val_accuracy: 0.9903\n",
            "Epoch 3/10\n",
            "1875/1875 [==============================] - 67s 35ms/step - loss: 0.0303 - accuracy: 0.9903 - val_loss: 0.0445 - val_accuracy: 0.9864\n",
            "Epoch 4/10\n",
            "1875/1875 [==============================] - 68s 36ms/step - loss: 0.0219 - accuracy: 0.9930 - val_loss: 0.0352 - val_accuracy: 0.9894\n",
            "Epoch 5/10\n",
            "1875/1875 [==============================] - 71s 38ms/step - loss: 0.0176 - accuracy: 0.9945 - val_loss: 0.0244 - val_accuracy: 0.9915\n",
            "Epoch 6/10\n",
            "1875/1875 [==============================] - 72s 38ms/step - loss: 0.0134 - accuracy: 0.9956 - val_loss: 0.0436 - val_accuracy: 0.9887\n",
            "Epoch 7/10\n",
            "1875/1875 [==============================] - 72s 38ms/step - loss: 0.0109 - accuracy: 0.9964 - val_loss: 0.0386 - val_accuracy: 0.9891\n",
            "Epoch 8/10\n",
            "1875/1875 [==============================] - 71s 38ms/step - loss: 0.0094 - accuracy: 0.9970 - val_loss: 0.0347 - val_accuracy: 0.9898\n",
            "Epoch 9/10\n",
            "1875/1875 [==============================] - 71s 38ms/step - loss: 0.0081 - accuracy: 0.9972 - val_loss: 0.0331 - val_accuracy: 0.9918\n",
            "Epoch 10/10\n",
            "1875/1875 [==============================] - 71s 38ms/step - loss: 0.0066 - accuracy: 0.9978 - val_loss: 0.0428 - val_accuracy: 0.9902\n",
            "Epoch 1/10\n",
            "1875/1875 [==============================] - 69s 37ms/step - loss: 0.0020 - accuracy: 0.9994 - val_loss: 0.0454 - val_accuracy: 0.9923\n",
            "Epoch 2/10\n",
            "1875/1875 [==============================] - 71s 38ms/step - loss: 9.2855e-04 - accuracy: 0.9998 - val_loss: 0.0457 - val_accuracy: 0.9928\n",
            "Epoch 3/10\n",
            "1875/1875 [==============================] - 69s 37ms/step - loss: 2.8813e-04 - accuracy: 0.9999 - val_loss: 0.0456 - val_accuracy: 0.9930\n",
            "Epoch 4/10\n",
            "1875/1875 [==============================] - 71s 38ms/step - loss: 1.2460e-04 - accuracy: 1.0000 - val_loss: 0.0496 - val_accuracy: 0.9925\n",
            "Epoch 5/10\n",
            "1875/1875 [==============================] - 73s 39ms/step - loss: 3.8458e-05 - accuracy: 1.0000 - val_loss: 0.0465 - val_accuracy: 0.9932\n",
            "Epoch 6/10\n",
            "1875/1875 [==============================] - 71s 38ms/step - loss: 1.8743e-05 - accuracy: 1.0000 - val_loss: 0.0484 - val_accuracy: 0.9929\n",
            "Epoch 7/10\n",
            "1875/1875 [==============================] - 72s 38ms/step - loss: 3.2751e-06 - accuracy: 1.0000 - val_loss: 0.0487 - val_accuracy: 0.9928\n",
            "Epoch 8/10\n",
            "1875/1875 [==============================] - 70s 38ms/step - loss: 2.3789e-06 - accuracy: 1.0000 - val_loss: 0.0492 - val_accuracy: 0.9929\n",
            "Epoch 9/10\n",
            "1875/1875 [==============================] - 70s 37ms/step - loss: 1.7207e-06 - accuracy: 1.0000 - val_loss: 0.0498 - val_accuracy: 0.9929\n",
            "Epoch 10/10\n",
            "1875/1875 [==============================] - 71s 38ms/step - loss: 1.2545e-06 - accuracy: 1.0000 - val_loss: 0.0509 - val_accuracy: 0.9927\n"
          ]
        }
      ]
    },
    {
      "cell_type": "code",
      "source": [
        "import matplotlib.pyplot as plt\n",
        "plt.plot(history_sgd.history['accuracy'], label='SGD')\n",
        "plt.plot(history_adam.history['accuracy'], label='Adam')\n",
        "plt.plot(history_rmsprop.history['accuracy'], label='RMSprop')\n",
        "plt.title('Model Accuracy')\n",
        "plt.ylabel('Accuracy')\n",
        "plt.xlabel('Epoch')\n",
        "plt.legend(loc='lower right')\n",
        "plt.show()\n"
      ],
      "metadata": {
        "colab": {
          "base_uri": "https://localhost:8080/",
          "height": 295
        },
        "id": "jEVmjJnKZxw6",
        "outputId": "87955061-bc43-4d23-d2a3-c9a66bfd2c6e"
      },
      "execution_count": 7,
      "outputs": [
        {
          "output_type": "display_data",
          "data": {
            "text/plain": [
              "<Figure size 432x288 with 1 Axes>"
            ],
            "image/png": "[encoded data removed]"
          },
          "metadata": {
            "needs_background": "light"
          }
        }
      ]
    }
  ]
}